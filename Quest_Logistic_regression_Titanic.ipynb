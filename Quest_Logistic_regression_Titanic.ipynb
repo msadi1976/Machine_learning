{
  "nbformat": 4,
  "nbformat_minor": 0,
  "metadata": {
    "colab": {
      "provenance": [],
      "include_colab_link": true
    },
    "kernelspec": {
      "name": "python3",
      "display_name": "Python 3"
    }
  },
  "cells": [
    {
      "cell_type": "markdown",
      "metadata": {
        "id": "view-in-github",
        "colab_type": "text"
      },
      "source": [
        "<a href=\"https://colab.research.google.com/github/msadi1976/Machine_learning/blob/main/Quest_Logistic_regression_Titanic.ipynb\" target=\"_parent\"><img src=\"https://colab.research.google.com/assets/colab-badge.svg\" alt=\"Open In Colab\"/></a>"
      ]
    },
    {
      "cell_type": "markdown",
      "metadata": {
        "id": "1Ap1mtkdiXwS"
      },
      "source": [
        "# Execute the code below\n",
        "You will get a passenger list of the titanic."
      ]
    },
    {
      "cell_type": "code",
      "source": [
        "import pandas as pd\n",
        "import numpy as np\n"
      ],
      "metadata": {
        "id": "4MxBOWLWD67O"
      },
      "execution_count": 28,
      "outputs": []
    },
    {
      "cell_type": "code",
      "metadata": {
        "id": "53zP-4uyicEu",
        "colab": {
          "base_uri": "https://localhost:8080/",
          "height": 206
        },
        "outputId": "41c2ba6e-d27a-4016-e7df-e49becda989c"
      },
      "source": [
        "link = \"https://raw.githubusercontent.com/murpi/wilddata/master/quests/titanic.csv\"\n",
        "df_titanic = pd.read_csv(link)\n",
        "df_titanic['Survived'] = df_titanic['Survived'].apply(lambda x: \"Survived\" if x == 1 else \"Dead\")\n",
        "df_titanic.head()"
      ],
      "execution_count": 3,
      "outputs": [
        {
          "output_type": "execute_result",
          "data": {
            "text/plain": [
              "   Survived  Pclass                                               Name  \\\n",
              "0      Dead       3                             Mr. Owen Harris Braund   \n",
              "1  Survived       1  Mrs. John Bradley (Florence Briggs Thayer) Cum...   \n",
              "2  Survived       3                              Miss. Laina Heikkinen   \n",
              "3  Survived       1        Mrs. Jacques Heath (Lily May Peel) Futrelle   \n",
              "4      Dead       3                            Mr. William Henry Allen   \n",
              "\n",
              "      Sex   Age  Siblings/Spouses Aboard  Parents/Children Aboard     Fare  \n",
              "0    male  22.0                        1                        0   7.2500  \n",
              "1  female  38.0                        1                        0  71.2833  \n",
              "2  female  26.0                        0                        0   7.9250  \n",
              "3  female  35.0                        1                        0  53.1000  \n",
              "4    male  35.0                        0                        0   8.0500  "
            ],
            "text/html": [
              "\n",
              "  <div id=\"df-37308823-b9be-436d-8c7c-b977bf031464\">\n",
              "    <div class=\"colab-df-container\">\n",
              "      <div>\n",
              "<style scoped>\n",
              "    .dataframe tbody tr th:only-of-type {\n",
              "        vertical-align: middle;\n",
              "    }\n",
              "\n",
              "    .dataframe tbody tr th {\n",
              "        vertical-align: top;\n",
              "    }\n",
              "\n",
              "    .dataframe thead th {\n",
              "        text-align: right;\n",
              "    }\n",
              "</style>\n",
              "<table border=\"1\" class=\"dataframe\">\n",
              "  <thead>\n",
              "    <tr style=\"text-align: right;\">\n",
              "      <th></th>\n",
              "      <th>Survived</th>\n",
              "      <th>Pclass</th>\n",
              "      <th>Name</th>\n",
              "      <th>Sex</th>\n",
              "      <th>Age</th>\n",
              "      <th>Siblings/Spouses Aboard</th>\n",
              "      <th>Parents/Children Aboard</th>\n",
              "      <th>Fare</th>\n",
              "    </tr>\n",
              "  </thead>\n",
              "  <tbody>\n",
              "    <tr>\n",
              "      <th>0</th>\n",
              "      <td>Dead</td>\n",
              "      <td>3</td>\n",
              "      <td>Mr. Owen Harris Braund</td>\n",
              "      <td>male</td>\n",
              "      <td>22.0</td>\n",
              "      <td>1</td>\n",
              "      <td>0</td>\n",
              "      <td>7.2500</td>\n",
              "    </tr>\n",
              "    <tr>\n",
              "      <th>1</th>\n",
              "      <td>Survived</td>\n",
              "      <td>1</td>\n",
              "      <td>Mrs. John Bradley (Florence Briggs Thayer) Cum...</td>\n",
              "      <td>female</td>\n",
              "      <td>38.0</td>\n",
              "      <td>1</td>\n",
              "      <td>0</td>\n",
              "      <td>71.2833</td>\n",
              "    </tr>\n",
              "    <tr>\n",
              "      <th>2</th>\n",
              "      <td>Survived</td>\n",
              "      <td>3</td>\n",
              "      <td>Miss. Laina Heikkinen</td>\n",
              "      <td>female</td>\n",
              "      <td>26.0</td>\n",
              "      <td>0</td>\n",
              "      <td>0</td>\n",
              "      <td>7.9250</td>\n",
              "    </tr>\n",
              "    <tr>\n",
              "      <th>3</th>\n",
              "      <td>Survived</td>\n",
              "      <td>1</td>\n",
              "      <td>Mrs. Jacques Heath (Lily May Peel) Futrelle</td>\n",
              "      <td>female</td>\n",
              "      <td>35.0</td>\n",
              "      <td>1</td>\n",
              "      <td>0</td>\n",
              "      <td>53.1000</td>\n",
              "    </tr>\n",
              "    <tr>\n",
              "      <th>4</th>\n",
              "      <td>Dead</td>\n",
              "      <td>3</td>\n",
              "      <td>Mr. William Henry Allen</td>\n",
              "      <td>male</td>\n",
              "      <td>35.0</td>\n",
              "      <td>0</td>\n",
              "      <td>0</td>\n",
              "      <td>8.0500</td>\n",
              "    </tr>\n",
              "  </tbody>\n",
              "</table>\n",
              "</div>\n",
              "      <button class=\"colab-df-convert\" onclick=\"convertToInteractive('df-37308823-b9be-436d-8c7c-b977bf031464')\"\n",
              "              title=\"Convert this dataframe to an interactive table.\"\n",
              "              style=\"display:none;\">\n",
              "        \n",
              "  <svg xmlns=\"http://www.w3.org/2000/svg\" height=\"24px\"viewBox=\"0 0 24 24\"\n",
              "       width=\"24px\">\n",
              "    <path d=\"M0 0h24v24H0V0z\" fill=\"none\"/>\n",
              "    <path d=\"M18.56 5.44l.94 2.06.94-2.06 2.06-.94-2.06-.94-.94-2.06-.94 2.06-2.06.94zm-11 1L8.5 8.5l.94-2.06 2.06-.94-2.06-.94L8.5 2.5l-.94 2.06-2.06.94zm10 10l.94 2.06.94-2.06 2.06-.94-2.06-.94-.94-2.06-.94 2.06-2.06.94z\"/><path d=\"M17.41 7.96l-1.37-1.37c-.4-.4-.92-.59-1.43-.59-.52 0-1.04.2-1.43.59L10.3 9.45l-7.72 7.72c-.78.78-.78 2.05 0 2.83L4 21.41c.39.39.9.59 1.41.59.51 0 1.02-.2 1.41-.59l7.78-7.78 2.81-2.81c.8-.78.8-2.07 0-2.86zM5.41 20L4 18.59l7.72-7.72 1.47 1.35L5.41 20z\"/>\n",
              "  </svg>\n",
              "      </button>\n",
              "      \n",
              "  <style>\n",
              "    .colab-df-container {\n",
              "      display:flex;\n",
              "      flex-wrap:wrap;\n",
              "      gap: 12px;\n",
              "    }\n",
              "\n",
              "    .colab-df-convert {\n",
              "      background-color: #E8F0FE;\n",
              "      border: none;\n",
              "      border-radius: 50%;\n",
              "      cursor: pointer;\n",
              "      display: none;\n",
              "      fill: #1967D2;\n",
              "      height: 32px;\n",
              "      padding: 0 0 0 0;\n",
              "      width: 32px;\n",
              "    }\n",
              "\n",
              "    .colab-df-convert:hover {\n",
              "      background-color: #E2EBFA;\n",
              "      box-shadow: 0px 1px 2px rgba(60, 64, 67, 0.3), 0px 1px 3px 1px rgba(60, 64, 67, 0.15);\n",
              "      fill: #174EA6;\n",
              "    }\n",
              "\n",
              "    [theme=dark] .colab-df-convert {\n",
              "      background-color: #3B4455;\n",
              "      fill: #D2E3FC;\n",
              "    }\n",
              "\n",
              "    [theme=dark] .colab-df-convert:hover {\n",
              "      background-color: #434B5C;\n",
              "      box-shadow: 0px 1px 3px 1px rgba(0, 0, 0, 0.15);\n",
              "      filter: drop-shadow(0px 1px 2px rgba(0, 0, 0, 0.3));\n",
              "      fill: #FFFFFF;\n",
              "    }\n",
              "  </style>\n",
              "\n",
              "      <script>\n",
              "        const buttonEl =\n",
              "          document.querySelector('#df-37308823-b9be-436d-8c7c-b977bf031464 button.colab-df-convert');\n",
              "        buttonEl.style.display =\n",
              "          google.colab.kernel.accessAllowed ? 'block' : 'none';\n",
              "\n",
              "        async function convertToInteractive(key) {\n",
              "          const element = document.querySelector('#df-37308823-b9be-436d-8c7c-b977bf031464');\n",
              "          const dataTable =\n",
              "            await google.colab.kernel.invokeFunction('convertToInteractive',\n",
              "                                                     [key], {});\n",
              "          if (!dataTable) return;\n",
              "\n",
              "          const docLinkHtml = 'Like what you see? Visit the ' +\n",
              "            '<a target=\"_blank\" href=https://colab.research.google.com/notebooks/data_table.ipynb>data table notebook</a>'\n",
              "            + ' to learn more about interactive tables.';\n",
              "          element.innerHTML = '';\n",
              "          dataTable['output_type'] = 'display_data';\n",
              "          await google.colab.output.renderOutput(dataTable, element);\n",
              "          const docLink = document.createElement('div');\n",
              "          docLink.innerHTML = docLinkHtml;\n",
              "          element.appendChild(docLink);\n",
              "        }\n",
              "      </script>\n",
              "    </div>\n",
              "  </div>\n",
              "  "
            ]
          },
          "metadata": {},
          "execution_count": 3
        }
      ]
    },
    {
      "cell_type": "markdown",
      "metadata": {
        "id": "wPKc4UTfjM7t"
      },
      "source": [
        "# Data preparation"
      ]
    },
    {
      "cell_type": "markdown",
      "metadata": {
        "id": "ew_BixpIjRl1"
      },
      "source": [
        "What are the \"type\" of each column? Are there non-numeric columns? "
      ]
    },
    {
      "cell_type": "code",
      "metadata": {
        "id": "0LCDhqijixTR",
        "colab": {
          "base_uri": "https://localhost:8080/"
        },
        "outputId": "589206da-b7f5-4691-8001-c0a8e9f5b93c"
      },
      "source": [
        "# What are the \"type\" of each column? \n",
        "print(df_titanic.dtypes)\n"
      ],
      "execution_count": 4,
      "outputs": [
        {
          "output_type": "stream",
          "name": "stdout",
          "text": [
            "Survived                    object\n",
            "Pclass                       int64\n",
            "Name                        object\n",
            "Sex                         object\n",
            "Age                        float64\n",
            "Siblings/Spouses Aboard      int64\n",
            "Parents/Children Aboard      int64\n",
            "Fare                       float64\n",
            "dtype: object\n"
          ]
        }
      ]
    },
    {
      "cell_type": "markdown",
      "source": [
        "Name, Sex,Survived arenon-numeric columns"
      ],
      "metadata": {
        "id": "9EQl3B2i1Hbd"
      }
    },
    {
      "cell_type": "markdown",
      "metadata": {
        "id": "bHR5fxjtmcWN"
      },
      "source": [
        "Then, make a first exploration (pairplots, correlation heatmaps, etc...) of the dataset"
      ]
    },
    {
      "cell_type": "code",
      "metadata": {
        "id": "0hyLZ_pYnJYs",
        "colab": {
          "base_uri": "https://localhost:8080/",
          "height": 920
        },
        "outputId": "65d03854-0638-4c26-b3b2-f0a21ee1fe13"
      },
      "source": [
        "# First exploration:\n",
        "import seaborn as sns\n",
        "sns.pairplot(df_titanic)"
      ],
      "execution_count": 5,
      "outputs": [
        {
          "output_type": "execute_result",
          "data": {
            "text/plain": [
              "<seaborn.axisgrid.PairGrid at 0x7f162d378130>"
            ]
          },
          "metadata": {},
          "execution_count": 5
        },
        {
          "output_type": "display_data",
          "data": {
            "text/plain": [
              "<Figure size 900x900 with 30 Axes>"
            ],
            "image/png": "[encoded data removed]"
          },
          "metadata": {
            "needs_background": "light"
          }
        }
      ]
    },
    {
      "cell_type": "code",
      "source": [
        "import seaborn as sns\n",
        "import matplotlib.pyplot as plt\n",
        "\n",
        "corr = df_titanic.corr()\n",
        "sns.heatmap(corr, annot=True, cmap='coolwarm')\n",
        "plt.show()"
      ],
      "metadata": {
        "colab": {
          "base_uri": "https://localhost:8080/",
          "height": 382
        },
        "id": "feQIINSj2kcd",
        "outputId": "70436d7d-3dfb-43f7-ef19-285587cf77cd"
      },
      "execution_count": 6,
      "outputs": [
        {
          "output_type": "display_data",
          "data": {
            "text/plain": [
              "<Figure size 432x288 with 2 Axes>"
            ],
            "image/png": "[encoded data removed]"
          },
          "metadata": {
            "needs_background": "light"
          }
        }
      ]
    },
    {
      "cell_type": "markdown",
      "metadata": {
        "id": "Sdzi-h3un-XT"
      },
      "source": [
        "You are looking for Jack. How many people named Jack on board?"
      ]
    },
    {
      "cell_type": "code",
      "metadata": {
        "id": "UDGn6qWIn7Ql",
        "colab": {
          "base_uri": "https://localhost:8080/"
        },
        "outputId": "de7f832b-2b6f-4a13-db20-8f0e3ea3397e"
      },
      "source": [
        "# How many people named Jack on board?\n",
        "jack_count = df_titanic[df_titanic['Name'].str.contains(\"Jack\")].shape[0]\n",
        "print(\"Number of people named Jack on board is :\", jack_count)"
      ],
      "execution_count": 7,
      "outputs": [
        {
          "output_type": "stream",
          "name": "stdout",
          "text": [
            "Number of people named Jack on board is : 1\n"
          ]
        }
      ]
    },
    {
      "cell_type": "code",
      "source": [],
      "metadata": {
        "id": "WjEg1dVX4fr9"
      },
      "execution_count": 7,
      "outputs": []
    },
    {
      "cell_type": "markdown",
      "metadata": {
        "id": "vpruBrCOnOw8"
      },
      "source": [
        "# Logistic regression\n",
        "\n",
        "Today, in this quest, you have an extraordinary power: you can travel in time to try to save some passengers. \n",
        "You obviously wanted to save Jack. But you didn't find his name on the list. He probably travels under a false name...\n",
        "Too bad, thanks to this trip, you will still try to save as many people as possible. To do this, you have to identify the people who are most probably going to die. \n",
        "\n",
        "- Select features (X) with only numeric values, and without \"Survived\" column\n",
        "- Select \"Survived\" column as target (y)\n",
        "- Split your data with **random_state = 36**\n",
        "- Train a logistic regression\n",
        "- Print the accuracy score on the train set and on the test set. Is there overfitting?\n",
        "- Print the Confusion Matrix on the test set\n",
        "- How many iterations were needed to train this model?"
      ]
    },
    {
      "cell_type": "code",
      "metadata": {
        "id": "UpXqf6uNq3b6",
        "colab": {
          "base_uri": "https://localhost:8080/",
          "height": 423
        },
        "outputId": "a8d59b86-ace1-4dfb-c359-4d259e2aec46"
      },
      "source": [
        "# It's up to you:\n",
        "#Select features (X) with only numeric values, and without \"Survived\" column\n",
        "X=df_titanic[['Pclass','Age','Siblings/Spouses Aboard','Parents/Children Aboard','Fare']]\n",
        "X"
      ],
      "execution_count": 8,
      "outputs": [
        {
          "output_type": "execute_result",
          "data": {
            "text/plain": [
              "     Pclass   Age  Siblings/Spouses Aboard  Parents/Children Aboard     Fare\n",
              "0         3  22.0                        1                        0   7.2500\n",
              "1         1  38.0                        1                        0  71.2833\n",
              "2         3  26.0                        0                        0   7.9250\n",
              "3         1  35.0                        1                        0  53.1000\n",
              "4         3  35.0                        0                        0   8.0500\n",
              "..      ...   ...                      ...                      ...      ...\n",
              "882       2  27.0                        0                        0  13.0000\n",
              "883       1  19.0                        0                        0  30.0000\n",
              "884       3   7.0                        1                        2  23.4500\n",
              "885       1  26.0                        0                        0  30.0000\n",
              "886       3  32.0                        0                        0   7.7500\n",
              "\n",
              "[887 rows x 5 columns]"
            ],
            "text/html": [
              "\n",
              "  <div id=\"df-7adbb589-4860-470f-bb9b-659108bf9dca\">\n",
              "    <div class=\"colab-df-container\">\n",
              "      <div>\n",
              "<style scoped>\n",
              "    .dataframe tbody tr th:only-of-type {\n",
              "        vertical-align: middle;\n",
              "    }\n",
              "\n",
              "    .dataframe tbody tr th {\n",
              "        vertical-align: top;\n",
              "    }\n",
              "\n",
              "    .dataframe thead th {\n",
              "        text-align: right;\n",
              "    }\n",
              "</style>\n",
              "<table border=\"1\" class=\"dataframe\">\n",
              "  <thead>\n",
              "    <tr style=\"text-align: right;\">\n",
              "      <th></th>\n",
              "      <th>Pclass</th>\n",
              "      <th>Age</th>\n",
              "      <th>Siblings/Spouses Aboard</th>\n",
              "      <th>Parents/Children Aboard</th>\n",
              "      <th>Fare</th>\n",
              "    </tr>\n",
              "  </thead>\n",
              "  <tbody>\n",
              "    <tr>\n",
              "      <th>0</th>\n",
              "      <td>3</td>\n",
              "      <td>22.0</td>\n",
              "      <td>1</td>\n",
              "      <td>0</td>\n",
              "      <td>7.2500</td>\n",
              "    </tr>\n",
              "    <tr>\n",
              "      <th>1</th>\n",
              "      <td>1</td>\n",
              "      <td>38.0</td>\n",
              "      <td>1</td>\n",
              "      <td>0</td>\n",
              "      <td>71.2833</td>\n",
              "    </tr>\n",
              "    <tr>\n",
              "      <th>2</th>\n",
              "      <td>3</td>\n",
              "      <td>26.0</td>\n",
              "      <td>0</td>\n",
              "      <td>0</td>\n",
              "      <td>7.9250</td>\n",
              "    </tr>\n",
              "    <tr>\n",
              "      <th>3</th>\n",
              "      <td>1</td>\n",
              "      <td>35.0</td>\n",
              "      <td>1</td>\n",
              "      <td>0</td>\n",
              "      <td>53.1000</td>\n",
              "    </tr>\n",
              "    <tr>\n",
              "      <th>4</th>\n",
              "      <td>3</td>\n",
              "      <td>35.0</td>\n",
              "      <td>0</td>\n",
              "      <td>0</td>\n",
              "      <td>8.0500</td>\n",
              "    </tr>\n",
              "    <tr>\n",
              "      <th>...</th>\n",
              "      <td>...</td>\n",
              "      <td>...</td>\n",
              "      <td>...</td>\n",
              "      <td>...</td>\n",
              "      <td>...</td>\n",
              "    </tr>\n",
              "    <tr>\n",
              "      <th>882</th>\n",
              "      <td>2</td>\n",
              "      <td>27.0</td>\n",
              "      <td>0</td>\n",
              "      <td>0</td>\n",
              "      <td>13.0000</td>\n",
              "    </tr>\n",
              "    <tr>\n",
              "      <th>883</th>\n",
              "      <td>1</td>\n",
              "      <td>19.0</td>\n",
              "      <td>0</td>\n",
              "      <td>0</td>\n",
              "      <td>30.0000</td>\n",
              "    </tr>\n",
              "    <tr>\n",
              "      <th>884</th>\n",
              "      <td>3</td>\n",
              "      <td>7.0</td>\n",
              "      <td>1</td>\n",
              "      <td>2</td>\n",
              "      <td>23.4500</td>\n",
              "    </tr>\n",
              "    <tr>\n",
              "      <th>885</th>\n",
              "      <td>1</td>\n",
              "      <td>26.0</td>\n",
              "      <td>0</td>\n",
              "      <td>0</td>\n",
              "      <td>30.0000</td>\n",
              "    </tr>\n",
              "    <tr>\n",
              "      <th>886</th>\n",
              "      <td>3</td>\n",
              "      <td>32.0</td>\n",
              "      <td>0</td>\n",
              "      <td>0</td>\n",
              "      <td>7.7500</td>\n",
              "    </tr>\n",
              "  </tbody>\n",
              "</table>\n",
              "<p>887 rows × 5 columns</p>\n",
              "</div>\n",
              "      <button class=\"colab-df-convert\" onclick=\"convertToInteractive('df-7adbb589-4860-470f-bb9b-659108bf9dca')\"\n",
              "              title=\"Convert this dataframe to an interactive table.\"\n",
              "              style=\"display:none;\">\n",
              "        \n",
              "  <svg xmlns=\"http://www.w3.org/2000/svg\" height=\"24px\"viewBox=\"0 0 24 24\"\n",
              "       width=\"24px\">\n",
              "    <path d=\"M0 0h24v24H0V0z\" fill=\"none\"/>\n",
              "    <path d=\"M18.56 5.44l.94 2.06.94-2.06 2.06-.94-2.06-.94-.94-2.06-.94 2.06-2.06.94zm-11 1L8.5 8.5l.94-2.06 2.06-.94-2.06-.94L8.5 2.5l-.94 2.06-2.06.94zm10 10l.94 2.06.94-2.06 2.06-.94-2.06-.94-.94-2.06-.94 2.06-2.06.94z\"/><path d=\"M17.41 7.96l-1.37-1.37c-.4-.4-.92-.59-1.43-.59-.52 0-1.04.2-1.43.59L10.3 9.45l-7.72 7.72c-.78.78-.78 2.05 0 2.83L4 21.41c.39.39.9.59 1.41.59.51 0 1.02-.2 1.41-.59l7.78-7.78 2.81-2.81c.8-.78.8-2.07 0-2.86zM5.41 20L4 18.59l7.72-7.72 1.47 1.35L5.41 20z\"/>\n",
              "  </svg>\n",
              "      </button>\n",
              "      \n",
              "  <style>\n",
              "    .colab-df-container {\n",
              "      display:flex;\n",
              "      flex-wrap:wrap;\n",
              "      gap: 12px;\n",
              "    }\n",
              "\n",
              "    .colab-df-convert {\n",
              "      background-color: #E8F0FE;\n",
              "      border: none;\n",
              "      border-radius: 50%;\n",
              "      cursor: pointer;\n",
              "      display: none;\n",
              "      fill: #1967D2;\n",
              "      height: 32px;\n",
              "      padding: 0 0 0 0;\n",
              "      width: 32px;\n",
              "    }\n",
              "\n",
              "    .colab-df-convert:hover {\n",
              "      background-color: #E2EBFA;\n",
              "      box-shadow: 0px 1px 2px rgba(60, 64, 67, 0.3), 0px 1px 3px 1px rgba(60, 64, 67, 0.15);\n",
              "      fill: #174EA6;\n",
              "    }\n",
              "\n",
              "    [theme=dark] .colab-df-convert {\n",
              "      background-color: #3B4455;\n",
              "      fill: #D2E3FC;\n",
              "    }\n",
              "\n",
              "    [theme=dark] .colab-df-convert:hover {\n",
              "      background-color: #434B5C;\n",
              "      box-shadow: 0px 1px 3px 1px rgba(0, 0, 0, 0.15);\n",
              "      filter: drop-shadow(0px 1px 2px rgba(0, 0, 0, 0.3));\n",
              "      fill: #FFFFFF;\n",
              "    }\n",
              "  </style>\n",
              "\n",
              "      <script>\n",
              "        const buttonEl =\n",
              "          document.querySelector('#df-7adbb589-4860-470f-bb9b-659108bf9dca button.colab-df-convert');\n",
              "        buttonEl.style.display =\n",
              "          google.colab.kernel.accessAllowed ? 'block' : 'none';\n",
              "\n",
              "        async function convertToInteractive(key) {\n",
              "          const element = document.querySelector('#df-7adbb589-4860-470f-bb9b-659108bf9dca');\n",
              "          const dataTable =\n",
              "            await google.colab.kernel.invokeFunction('convertToInteractive',\n",
              "                                                     [key], {});\n",
              "          if (!dataTable) return;\n",
              "\n",
              "          const docLinkHtml = 'Like what you see? Visit the ' +\n",
              "            '<a target=\"_blank\" href=https://colab.research.google.com/notebooks/data_table.ipynb>data table notebook</a>'\n",
              "            + ' to learn more about interactive tables.';\n",
              "          element.innerHTML = '';\n",
              "          dataTable['output_type'] = 'display_data';\n",
              "          await google.colab.output.renderOutput(dataTable, element);\n",
              "          const docLink = document.createElement('div');\n",
              "          docLink.innerHTML = docLinkHtml;\n",
              "          element.appendChild(docLink);\n",
              "        }\n",
              "      </script>\n",
              "    </div>\n",
              "  </div>\n",
              "  "
            ]
          },
          "metadata": {},
          "execution_count": 8
        }
      ]
    },
    {
      "cell_type": "code",
      "source": [
        "#Select \"Survived\" column as target (y)\n",
        "y=df_titanic[['Survived']]\n",
        "y"
      ],
      "metadata": {
        "colab": {
          "base_uri": "https://localhost:8080/",
          "height": 423
        },
        "id": "_Q5uUuXk6Tip",
        "outputId": "22f8b8dc-ed1b-43b3-c8f5-022dbba769b5"
      },
      "execution_count": 9,
      "outputs": [
        {
          "output_type": "execute_result",
          "data": {
            "text/plain": [
              "     Survived\n",
              "0        Dead\n",
              "1    Survived\n",
              "2    Survived\n",
              "3    Survived\n",
              "4        Dead\n",
              "..        ...\n",
              "882      Dead\n",
              "883  Survived\n",
              "884      Dead\n",
              "885  Survived\n",
              "886      Dead\n",
              "\n",
              "[887 rows x 1 columns]"
            ],
            "text/html": [
              "\n",
              "  <div id=\"df-ebdf9355-db22-4e9f-9541-8e2d1845955e\">\n",
              "    <div class=\"colab-df-container\">\n",
              "      <div>\n",
              "<style scoped>\n",
              "    .dataframe tbody tr th:only-of-type {\n",
              "        vertical-align: middle;\n",
              "    }\n",
              "\n",
              "    .dataframe tbody tr th {\n",
              "        vertical-align: top;\n",
              "    }\n",
              "\n",
              "    .dataframe thead th {\n",
              "        text-align: right;\n",
              "    }\n",
              "</style>\n",
              "<table border=\"1\" class=\"dataframe\">\n",
              "  <thead>\n",
              "    <tr style=\"text-align: right;\">\n",
              "      <th></th>\n",
              "      <th>Survived</th>\n",
              "    </tr>\n",
              "  </thead>\n",
              "  <tbody>\n",
              "    <tr>\n",
              "      <th>0</th>\n",
              "      <td>Dead</td>\n",
              "    </tr>\n",
              "    <tr>\n",
              "      <th>1</th>\n",
              "      <td>Survived</td>\n",
              "    </tr>\n",
              "    <tr>\n",
              "      <th>2</th>\n",
              "      <td>Survived</td>\n",
              "    </tr>\n",
              "    <tr>\n",
              "      <th>3</th>\n",
              "      <td>Survived</td>\n",
              "    </tr>\n",
              "    <tr>\n",
              "      <th>4</th>\n",
              "      <td>Dead</td>\n",
              "    </tr>\n",
              "    <tr>\n",
              "      <th>...</th>\n",
              "      <td>...</td>\n",
              "    </tr>\n",
              "    <tr>\n",
              "      <th>882</th>\n",
              "      <td>Dead</td>\n",
              "    </tr>\n",
              "    <tr>\n",
              "      <th>883</th>\n",
              "      <td>Survived</td>\n",
              "    </tr>\n",
              "    <tr>\n",
              "      <th>884</th>\n",
              "      <td>Dead</td>\n",
              "    </tr>\n",
              "    <tr>\n",
              "      <th>885</th>\n",
              "      <td>Survived</td>\n",
              "    </tr>\n",
              "    <tr>\n",
              "      <th>886</th>\n",
              "      <td>Dead</td>\n",
              "    </tr>\n",
              "  </tbody>\n",
              "</table>\n",
              "<p>887 rows × 1 columns</p>\n",
              "</div>\n",
              "      <button class=\"colab-df-convert\" onclick=\"convertToInteractive('df-ebdf9355-db22-4e9f-9541-8e2d1845955e')\"\n",
              "              title=\"Convert this dataframe to an interactive table.\"\n",
              "              style=\"display:none;\">\n",
              "        \n",
              "  <svg xmlns=\"http://www.w3.org/2000/svg\" height=\"24px\"viewBox=\"0 0 24 24\"\n",
              "       width=\"24px\">\n",
              "    <path d=\"M0 0h24v24H0V0z\" fill=\"none\"/>\n",
              "    <path d=\"M18.56 5.44l.94 2.06.94-2.06 2.06-.94-2.06-.94-.94-2.06-.94 2.06-2.06.94zm-11 1L8.5 8.5l.94-2.06 2.06-.94-2.06-.94L8.5 2.5l-.94 2.06-2.06.94zm10 10l.94 2.06.94-2.06 2.06-.94-2.06-.94-.94-2.06-.94 2.06-2.06.94z\"/><path d=\"M17.41 7.96l-1.37-1.37c-.4-.4-.92-.59-1.43-.59-.52 0-1.04.2-1.43.59L10.3 9.45l-7.72 7.72c-.78.78-.78 2.05 0 2.83L4 21.41c.39.39.9.59 1.41.59.51 0 1.02-.2 1.41-.59l7.78-7.78 2.81-2.81c.8-.78.8-2.07 0-2.86zM5.41 20L4 18.59l7.72-7.72 1.47 1.35L5.41 20z\"/>\n",
              "  </svg>\n",
              "      </button>\n",
              "      \n",
              "  <style>\n",
              "    .colab-df-container {\n",
              "      display:flex;\n",
              "      flex-wrap:wrap;\n",
              "      gap: 12px;\n",
              "    }\n",
              "\n",
              "    .colab-df-convert {\n",
              "      background-color: #E8F0FE;\n",
              "      border: none;\n",
              "      border-radius: 50%;\n",
              "      cursor: pointer;\n",
              "      display: none;\n",
              "      fill: #1967D2;\n",
              "      height: 32px;\n",
              "      padding: 0 0 0 0;\n",
              "      width: 32px;\n",
              "    }\n",
              "\n",
              "    .colab-df-convert:hover {\n",
              "      background-color: #E2EBFA;\n",
              "      box-shadow: 0px 1px 2px rgba(60, 64, 67, 0.3), 0px 1px 3px 1px rgba(60, 64, 67, 0.15);\n",
              "      fill: #174EA6;\n",
              "    }\n",
              "\n",
              "    [theme=dark] .colab-df-convert {\n",
              "      background-color: #3B4455;\n",
              "      fill: #D2E3FC;\n",
              "    }\n",
              "\n",
              "    [theme=dark] .colab-df-convert:hover {\n",
              "      background-color: #434B5C;\n",
              "      box-shadow: 0px 1px 3px 1px rgba(0, 0, 0, 0.15);\n",
              "      filter: drop-shadow(0px 1px 2px rgba(0, 0, 0, 0.3));\n",
              "      fill: #FFFFFF;\n",
              "    }\n",
              "  </style>\n",
              "\n",
              "      <script>\n",
              "        const buttonEl =\n",
              "          document.querySelector('#df-ebdf9355-db22-4e9f-9541-8e2d1845955e button.colab-df-convert');\n",
              "        buttonEl.style.display =\n",
              "          google.colab.kernel.accessAllowed ? 'block' : 'none';\n",
              "\n",
              "        async function convertToInteractive(key) {\n",
              "          const element = document.querySelector('#df-ebdf9355-db22-4e9f-9541-8e2d1845955e');\n",
              "          const dataTable =\n",
              "            await google.colab.kernel.invokeFunction('convertToInteractive',\n",
              "                                                     [key], {});\n",
              "          if (!dataTable) return;\n",
              "\n",
              "          const docLinkHtml = 'Like what you see? Visit the ' +\n",
              "            '<a target=\"_blank\" href=https://colab.research.google.com/notebooks/data_table.ipynb>data table notebook</a>'\n",
              "            + ' to learn more about interactive tables.';\n",
              "          element.innerHTML = '';\n",
              "          dataTable['output_type'] = 'display_data';\n",
              "          await google.colab.output.renderOutput(dataTable, element);\n",
              "          const docLink = document.createElement('div');\n",
              "          docLink.innerHTML = docLinkHtml;\n",
              "          element.appendChild(docLink);\n",
              "        }\n",
              "      </script>\n",
              "    </div>\n",
              "  </div>\n",
              "  "
            ]
          },
          "metadata": {},
          "execution_count": 9
        }
      ]
    },
    {
      "cell_type": "code",
      "source": [
        "#Split your data with random_state = 36\n",
        "from sklearn.model_selection import train_test_split\n",
        "\n",
        "X_train, X_test, y_train, y_test = train_test_split(X, y,random_state=36)\n",
        "print(\"The length of the initial dataset is :\", len(X))\n",
        "print(\"The length of the train dataset is   :\", len(X_train))\n",
        "print(\"The length of the test dataset is    :\", len(X_test))"
      ],
      "metadata": {
        "colab": {
          "base_uri": "https://localhost:8080/"
        },
        "id": "vipOReK89LM4",
        "outputId": "7046756e-ce21-4b41-f18d-7a81eda1e411"
      },
      "execution_count": 10,
      "outputs": [
        {
          "output_type": "stream",
          "name": "stdout",
          "text": [
            "The length of the initial dataset is : 887\n",
            "The length of the train dataset is   : 665\n",
            "The length of the test dataset is    : 222\n"
          ]
        }
      ]
    },
    {
      "cell_type": "code",
      "source": [
        "#Train a logistic regression\n",
        "from sklearn.linear_model import LogisticRegression\n",
        "from sklearn.model_selection import train_test_split\n",
        "model = LogisticRegression().fit(X_train,y_train)"
      ],
      "metadata": {
        "colab": {
          "base_uri": "https://localhost:8080/"
        },
        "id": "jHf5GNDH93D9",
        "outputId": "f6fff185-82e9-42e3-b350-c157c782234b"
      },
      "execution_count": 11,
      "outputs": [
        {
          "output_type": "stream",
          "name": "stderr",
          "text": [
            "/usr/local/lib/python3.8/dist-packages/sklearn/utils/validation.py:993: DataConversionWarning: A column-vector y was passed when a 1d array was expected. Please change the shape of y to (n_samples, ), for example using ravel().\n",
            "  y = column_or_1d(y, warn=True)\n"
          ]
        }
      ]
    },
    {
      "cell_type": "code",
      "source": [
        "#Print the accuracy score on the train set and on the test set. Is there overfitting?\n",
        "model.score(X_train, y_train)\n"
      ],
      "metadata": {
        "colab": {
          "base_uri": "https://localhost:8080/"
        },
        "id": "z7BFMnCi-ppI",
        "outputId": "bf62b822-ac2d-48af-9521-a3bd0221b3d6"
      },
      "execution_count": 12,
      "outputs": [
        {
          "output_type": "execute_result",
          "data": {
            "text/plain": [
              "0.718796992481203"
            ]
          },
          "metadata": {},
          "execution_count": 12
        }
      ]
    },
    {
      "cell_type": "code",
      "source": [
        "# yes, there is overfitting because this two scores are too different\n",
        "model.score(X_test, y_test)"
      ],
      "metadata": {
        "colab": {
          "base_uri": "https://localhost:8080/"
        },
        "id": "Ya2RmKYN_Cgp",
        "outputId": "f8c18b0c-512b-4841-bba1-9bd2f5ade5f0"
      },
      "execution_count": 13,
      "outputs": [
        {
          "output_type": "execute_result",
          "data": {
            "text/plain": [
              "0.6441441441441441"
            ]
          },
          "metadata": {},
          "execution_count": 13
        }
      ]
    },
    {
      "cell_type": "code",
      "source": [
        "#Print the Confusion Matrix on the test set\n",
        "from sklearn.metrics import confusion_matrix\n",
        "pd.DataFrame(data = confusion_matrix(y_true = y_test, y_pred = model.predict(X_test)),\n",
        "             index = model.classes_ + \" ACTUAL\",\n",
        "             columns = model.classes_ + \" PREDICTED\")"
      ],
      "metadata": {
        "colab": {
          "base_uri": "https://localhost:8080/",
          "height": 112
        },
        "id": "cVXczE-mAmP1",
        "outputId": "e6b9a6d8-15e8-4cc6-fccb-be6200ac6afc"
      },
      "execution_count": 14,
      "outputs": [
        {
          "output_type": "execute_result",
          "data": {
            "text/plain": [
              "                 Dead PREDICTED  Survived PREDICTED\n",
              "Dead ACTUAL                 109                  20\n",
              "Survived ACTUAL              59                  34"
            ],
            "text/html": [
              "\n",
              "  <div id=\"df-e208b6a8-124a-4f80-bb09-dff33248acb1\">\n",
              "    <div class=\"colab-df-container\">\n",
              "      <div>\n",
              "<style scoped>\n",
              "    .dataframe tbody tr th:only-of-type {\n",
              "        vertical-align: middle;\n",
              "    }\n",
              "\n",
              "    .dataframe tbody tr th {\n",
              "        vertical-align: top;\n",
              "    }\n",
              "\n",
              "    .dataframe thead th {\n",
              "        text-align: right;\n",
              "    }\n",
              "</style>\n",
              "<table border=\"1\" class=\"dataframe\">\n",
              "  <thead>\n",
              "    <tr style=\"text-align: right;\">\n",
              "      <th></th>\n",
              "      <th>Dead PREDICTED</th>\n",
              "      <th>Survived PREDICTED</th>\n",
              "    </tr>\n",
              "  </thead>\n",
              "  <tbody>\n",
              "    <tr>\n",
              "      <th>Dead ACTUAL</th>\n",
              "      <td>109</td>\n",
              "      <td>20</td>\n",
              "    </tr>\n",
              "    <tr>\n",
              "      <th>Survived ACTUAL</th>\n",
              "      <td>59</td>\n",
              "      <td>34</td>\n",
              "    </tr>\n",
              "  </tbody>\n",
              "</table>\n",
              "</div>\n",
              "      <button class=\"colab-df-convert\" onclick=\"convertToInteractive('df-e208b6a8-124a-4f80-bb09-dff33248acb1')\"\n",
              "              title=\"Convert this dataframe to an interactive table.\"\n",
              "              style=\"display:none;\">\n",
              "        \n",
              "  <svg xmlns=\"http://www.w3.org/2000/svg\" height=\"24px\"viewBox=\"0 0 24 24\"\n",
              "       width=\"24px\">\n",
              "    <path d=\"M0 0h24v24H0V0z\" fill=\"none\"/>\n",
              "    <path d=\"M18.56 5.44l.94 2.06.94-2.06 2.06-.94-2.06-.94-.94-2.06-.94 2.06-2.06.94zm-11 1L8.5 8.5l.94-2.06 2.06-.94-2.06-.94L8.5 2.5l-.94 2.06-2.06.94zm10 10l.94 2.06.94-2.06 2.06-.94-2.06-.94-.94-2.06-.94 2.06-2.06.94z\"/><path d=\"M17.41 7.96l-1.37-1.37c-.4-.4-.92-.59-1.43-.59-.52 0-1.04.2-1.43.59L10.3 9.45l-7.72 7.72c-.78.78-.78 2.05 0 2.83L4 21.41c.39.39.9.59 1.41.59.51 0 1.02-.2 1.41-.59l7.78-7.78 2.81-2.81c.8-.78.8-2.07 0-2.86zM5.41 20L4 18.59l7.72-7.72 1.47 1.35L5.41 20z\"/>\n",
              "  </svg>\n",
              "      </button>\n",
              "      \n",
              "  <style>\n",
              "    .colab-df-container {\n",
              "      display:flex;\n",
              "      flex-wrap:wrap;\n",
              "      gap: 12px;\n",
              "    }\n",
              "\n",
              "    .colab-df-convert {\n",
              "      background-color: #E8F0FE;\n",
              "      border: none;\n",
              "      border-radius: 50%;\n",
              "      cursor: pointer;\n",
              "      display: none;\n",
              "      fill: #1967D2;\n",
              "      height: 32px;\n",
              "      padding: 0 0 0 0;\n",
              "      width: 32px;\n",
              "    }\n",
              "\n",
              "    .colab-df-convert:hover {\n",
              "      background-color: #E2EBFA;\n",
              "      box-shadow: 0px 1px 2px rgba(60, 64, 67, 0.3), 0px 1px 3px 1px rgba(60, 64, 67, 0.15);\n",
              "      fill: #174EA6;\n",
              "    }\n",
              "\n",
              "    [theme=dark] .colab-df-convert {\n",
              "      background-color: #3B4455;\n",
              "      fill: #D2E3FC;\n",
              "    }\n",
              "\n",
              "    [theme=dark] .colab-df-convert:hover {\n",
              "      background-color: #434B5C;\n",
              "      box-shadow: 0px 1px 3px 1px rgba(0, 0, 0, 0.15);\n",
              "      filter: drop-shadow(0px 1px 2px rgba(0, 0, 0, 0.3));\n",
              "      fill: #FFFFFF;\n",
              "    }\n",
              "  </style>\n",
              "\n",
              "      <script>\n",
              "        const buttonEl =\n",
              "          document.querySelector('#df-e208b6a8-124a-4f80-bb09-dff33248acb1 button.colab-df-convert');\n",
              "        buttonEl.style.display =\n",
              "          google.colab.kernel.accessAllowed ? 'block' : 'none';\n",
              "\n",
              "        async function convertToInteractive(key) {\n",
              "          const element = document.querySelector('#df-e208b6a8-124a-4f80-bb09-dff33248acb1');\n",
              "          const dataTable =\n",
              "            await google.colab.kernel.invokeFunction('convertToInteractive',\n",
              "                                                     [key], {});\n",
              "          if (!dataTable) return;\n",
              "\n",
              "          const docLinkHtml = 'Like what you see? Visit the ' +\n",
              "            '<a target=\"_blank\" href=https://colab.research.google.com/notebooks/data_table.ipynb>data table notebook</a>'\n",
              "            + ' to learn more about interactive tables.';\n",
              "          element.innerHTML = '';\n",
              "          dataTable['output_type'] = 'display_data';\n",
              "          await google.colab.output.renderOutput(dataTable, element);\n",
              "          const docLink = document.createElement('div');\n",
              "          docLink.innerHTML = docLinkHtml;\n",
              "          element.appendChild(docLink);\n",
              "        }\n",
              "      </script>\n",
              "    </div>\n",
              "  </div>\n",
              "  "
            ]
          },
          "metadata": {},
          "execution_count": 14
        }
      ]
    },
    {
      "cell_type": "code",
      "source": [
        "n_iter = model.n_iter_\n",
        "print(n_iter)"
      ],
      "metadata": {
        "colab": {
          "base_uri": "https://localhost:8080/"
        },
        "id": "GcB3F1d9CBxp",
        "outputId": "5c43dc30-81f1-4a37-c190-1e377aa41b0e"
      },
      "execution_count": 15,
      "outputs": [
        {
          "output_type": "stream",
          "name": "stdout",
          "text": [
            "[55]\n"
          ]
        }
      ]
    },
    {
      "cell_type": "markdown",
      "metadata": {
        "id": "SJ4z3yi9w5Ja"
      },
      "source": [
        "# Model improvement\n",
        "\n",
        "With your fancy time machine, you can, and you will save all the people that the model will predict as dead. But you won't save people predicted as \"survived\" (because it's not necessary). So change the weights of the classes to be very careful: your goal is to save all the people at risk. So, in this case, it's better to have \"actual survived\" peopple predicted as death, because you'll save them anyway. Otherwise, \"actual death\" predicted as survived won't be saved by your time machine.\n",
        "- Change the weight of the classes\n",
        "- Fit the model on train set\n",
        "- Print the accuracy score on the train set and on the test set\n",
        "- Print the Confusion Matrix on the test set, you must have no deaths that have been predicted as \"Survived\"."
      ]
    },
    {
      "cell_type": "code",
      "source": [
        "import pandas as pd\n",
        "from sklearn.model_selection import train_test_split\n",
        "from sklearn.linear_model import LogisticRegression\n",
        "from sklearn.metrics import accuracy_score, confusion_matrix\n",
        "\n",
        "# Change the weight of the classes to be more careful in predicting deaths\n",
        "class_weights = {'Survived': 1, 'Dead': 10}\n",
        "\n",
        "# Train a Logistic Regression model\n",
        "model = LogisticRegression(class_weight=class_weights)\n",
        "model.fit(X_train, y_train)\n",
        "\n",
        "# Evaluate the model on the train and test sets\n",
        "y_train_pred = model.predict(X_train)\n",
        "y_test_pred = model.predict(X_test)\n",
        "\n",
        "train_accuracy = accuracy_score(y_train, y_train_pred)\n",
        "test_accuracy = accuracy_score(y_test, y_test_pred)\n",
        "print(\"Train accuracy:\", train_accuracy)\n",
        "print(\"Test accuracy:\", test_accuracy)\n",
        "\n",
        "# Print the Confusion Matrix on the test set\n",
        "#cm = confusion_matrix(y_test, y_test_pred)\n",
        "cm=pd.DataFrame(data = confusion_matrix(y_test, y_test_pred),\n",
        "             index = model.classes_ + \" ACTUAL\",\n",
        "             columns = model.classes_ + \" PREDICTED\")\n",
        "print(\"Confusion Matrix:\")\n",
        "print(cm)"
      ],
      "metadata": {
        "colab": {
          "base_uri": "https://localhost:8080/"
        },
        "id": "I51LrZVbpw3E",
        "outputId": "10681402-9986-4bac-8f18-13b5d13a61a2"
      },
      "execution_count": 16,
      "outputs": [
        {
          "output_type": "stream",
          "name": "stdout",
          "text": [
            "Train accuracy: 0.6300751879699248\n",
            "Test accuracy: 0.5900900900900901\n",
            "Confusion Matrix:\n",
            "                 Dead PREDICTED  Survived PREDICTED\n",
            "Dead ACTUAL                 129                   0\n",
            "Survived ACTUAL              91                   2\n"
          ]
        },
        {
          "output_type": "stream",
          "name": "stderr",
          "text": [
            "/usr/local/lib/python3.8/dist-packages/sklearn/utils/validation.py:993: DataConversionWarning: A column-vector y was passed when a 1d array was expected. Please change the shape of y to (n_samples, ), for example using ravel().\n",
            "  y = column_or_1d(y, warn=True)\n"
          ]
        }
      ]
    },
    {
      "cell_type": "markdown",
      "metadata": {
        "id": "hZzv1nztzdbf"
      },
      "source": [
        "# People most at risk\n",
        "\n",
        "You are looking for people most at risk.\n",
        "- Compute the prediction probabilities **on your test set**\n",
        "- Which column is about \"survived\" probability?\n",
        "- Among the previous prediction probability array, select only the column corresponding to the \"Survived\" probability\n",
        "- Display the passengers by sorting  most likely to survive first (`sorted_values()` method?)"
      ]
    },
    {
      "cell_type": "code",
      "metadata": {
        "id": "FEj-ZIQp0WUn",
        "colab": {
          "base_uri": "https://localhost:8080/"
        },
        "outputId": "da0aea79-c1ba-40e1-9593-6ed8ce9c6ed0"
      },
      "source": [
        "# It's up to you:\n",
        "#Compute the prediction probabilities on your test set\n",
        "sp=model.predict_proba(X_test.iloc[: , :])\n",
        "sp"
      ],
      "execution_count": 17,
      "outputs": [
        {
          "output_type": "execute_result",
          "data": {
            "text/plain": [
              "array([[0.90912458, 0.09087542],\n",
              "       [0.98167958, 0.01832042],\n",
              "       [0.96599843, 0.03400157],\n",
              "       [0.90451778, 0.09548222],\n",
              "       [0.98384237, 0.01615763],\n",
              "       [0.96075281, 0.03924719],\n",
              "       [0.97105645, 0.02894355],\n",
              "       [0.97723136, 0.02276864],\n",
              "       [0.69734041, 0.30265959],\n",
              "       [0.96630714, 0.03369286],\n",
              "       [0.96779095, 0.03220905],\n",
              "       [0.88280347, 0.11719653],\n",
              "       [0.87878612, 0.12121388],\n",
              "       [0.96161705, 0.03838295],\n",
              "       [0.96450563, 0.03549437],\n",
              "       [0.9471366 , 0.0528634 ],\n",
              "       [0.95647007, 0.04352993],\n",
              "       [0.79907654, 0.20092346],\n",
              "       [0.97633588, 0.02366412],\n",
              "       [0.95849635, 0.04150365],\n",
              "       [0.97499548, 0.02500452],\n",
              "       [0.90008599, 0.09991401],\n",
              "       [0.95348407, 0.04651593],\n",
              "       [0.84305301, 0.15694699],\n",
              "       [0.93139704, 0.06860296],\n",
              "       [0.97494196, 0.02505804],\n",
              "       [0.86086292, 0.13913708],\n",
              "       [0.97470007, 0.02529993],\n",
              "       [0.98722383, 0.01277617],\n",
              "       [0.90576106, 0.09423894],\n",
              "       [0.94656978, 0.05343022],\n",
              "       [0.91350194, 0.08649806],\n",
              "       [0.87154507, 0.12845493],\n",
              "       [0.98264589, 0.01735411],\n",
              "       [0.30829287, 0.69170713],\n",
              "       [0.97971249, 0.02028751],\n",
              "       [0.98197998, 0.01802002],\n",
              "       [0.87321221, 0.12678779],\n",
              "       [0.96630714, 0.03369286],\n",
              "       [0.94275795, 0.05724205],\n",
              "       [0.95786876, 0.04213124],\n",
              "       [0.96306606, 0.03693394],\n",
              "       [0.97634618, 0.02365382],\n",
              "       [0.7167919 , 0.2832081 ],\n",
              "       [0.98787082, 0.01212918],\n",
              "       [0.90809485, 0.09190515],\n",
              "       [0.96955955, 0.03044045],\n",
              "       [0.95783992, 0.04216008],\n",
              "       [0.98707159, 0.01292841],\n",
              "       [0.98964052, 0.01035948],\n",
              "       [0.87192366, 0.12807634],\n",
              "       [0.95876521, 0.04123479],\n",
              "       [0.97635424, 0.02364576],\n",
              "       [0.97850072, 0.02149928],\n",
              "       [0.95438539, 0.04561461],\n",
              "       [0.96448378, 0.03551622],\n",
              "       [0.98906092, 0.01093908],\n",
              "       [0.90399183, 0.09600817],\n",
              "       [0.97752396, 0.02247604],\n",
              "       [0.93792432, 0.06207568],\n",
              "       [0.97107269, 0.02892731],\n",
              "       [0.98583915, 0.01416085],\n",
              "       [0.97107269, 0.02892731],\n",
              "       [0.96264878, 0.03735122],\n",
              "       [0.97381464, 0.02618536],\n",
              "       [0.96451346, 0.03548654],\n",
              "       [0.77829737, 0.22170263],\n",
              "       [0.56887818, 0.43112182],\n",
              "       [0.95649576, 0.04350424],\n",
              "       [0.96439182, 0.03560818],\n",
              "       [0.94802148, 0.05197852],\n",
              "       [0.92720732, 0.07279268],\n",
              "       [0.97751416, 0.02248584],\n",
              "       [0.51027154, 0.48972846],\n",
              "       [0.97286006, 0.02713994],\n",
              "       [0.76589627, 0.23410373],\n",
              "       [0.9207316 , 0.0792684 ],\n",
              "       [0.97687567, 0.02312433],\n",
              "       [0.95182621, 0.04817379],\n",
              "       [0.97756624, 0.02243376],\n",
              "       [0.94514437, 0.05485563],\n",
              "       [0.98505912, 0.01494088],\n",
              "       [0.96275255, 0.03724745],\n",
              "       [0.9801123 , 0.0198877 ],\n",
              "       [0.96623179, 0.03376821],\n",
              "       [0.95879613, 0.04120387],\n",
              "       [0.97044028, 0.02955972],\n",
              "       [0.94347307, 0.05652693],\n",
              "       [0.91731805, 0.08268195],\n",
              "       [0.92846157, 0.07153843],\n",
              "       [0.88058432, 0.11941568],\n",
              "       [0.95309311, 0.04690689],\n",
              "       [0.85889554, 0.14110446],\n",
              "       [0.967697  , 0.032303  ],\n",
              "       [0.97249213, 0.02750787],\n",
              "       [0.9587333 , 0.0412667 ],\n",
              "       [0.96266912, 0.03733088],\n",
              "       [0.92814073, 0.07185927],\n",
              "       [0.98167958, 0.01832042],\n",
              "       [0.87342579, 0.12657421],\n",
              "       [0.85639713, 0.14360287],\n",
              "       [0.94394026, 0.05605974],\n",
              "       [0.94760065, 0.05239935],\n",
              "       [0.84990699, 0.15009301],\n",
              "       [0.90347749, 0.09652251],\n",
              "       [0.9679415 , 0.0320585 ],\n",
              "       [0.91018906, 0.08981094],\n",
              "       [0.95885033, 0.04114967],\n",
              "       [0.97616392, 0.02383608],\n",
              "       [0.92385091, 0.07614909],\n",
              "       [0.87973251, 0.12026749],\n",
              "       [0.96075554, 0.03924446],\n",
              "       [0.95601285, 0.04398715],\n",
              "       [0.96456289, 0.03543711],\n",
              "       [0.86953923, 0.13046077],\n",
              "       [0.96450852, 0.03549148],\n",
              "       [0.96073965, 0.03926035],\n",
              "       [0.96451512, 0.03548488],\n",
              "       [0.93005026, 0.06994974],\n",
              "       [0.9489424 , 0.0510576 ],\n",
              "       [0.90940892, 0.09059108],\n",
              "       [0.8585588 , 0.1414412 ],\n",
              "       [0.90863423, 0.09136577],\n",
              "       [0.46843015, 0.53156985],\n",
              "       [0.9235679 , 0.0764321 ],\n",
              "       [0.95439535, 0.04560465],\n",
              "       [0.99650953, 0.00349047],\n",
              "       [0.84477203, 0.15522797],\n",
              "       [0.96138843, 0.03861157],\n",
              "       [0.72798398, 0.27201602],\n",
              "       [0.59099799, 0.40900201],\n",
              "       [0.9496075 , 0.0503925 ],\n",
              "       [0.96086435, 0.03913565],\n",
              "       [0.96629279, 0.03370721],\n",
              "       [0.99590113, 0.00409887],\n",
              "       [0.8880359 , 0.1119641 ],\n",
              "       [0.92440702, 0.07559298],\n",
              "       [0.96625771, 0.03374229],\n",
              "       [0.95102567, 0.04897433],\n",
              "       [0.98784424, 0.01215576],\n",
              "       [0.97510825, 0.02489175],\n",
              "       [0.97634618, 0.02365382],\n",
              "       [0.97376578, 0.02623422],\n",
              "       [0.91788415, 0.08211585],\n",
              "       [0.93005026, 0.06994974],\n",
              "       [0.90843443, 0.09156557],\n",
              "       [0.76863646, 0.23136354],\n",
              "       [0.96626006, 0.03373994],\n",
              "       [0.92332251, 0.07667749],\n",
              "       [0.96791196, 0.03208804],\n",
              "       [0.95877586, 0.04122414],\n",
              "       [0.94088223, 0.05911777],\n",
              "       [0.96451346, 0.03548654],\n",
              "       [0.98646098, 0.01353902],\n",
              "       [0.97864261, 0.02135739],\n",
              "       [0.87924711, 0.12075289],\n",
              "       [0.92112142, 0.07887858],\n",
              "       [0.93754825, 0.06245175],\n",
              "       [0.9413877 , 0.0586123 ],\n",
              "       [0.96054034, 0.03945966],\n",
              "       [0.80270897, 0.19729103],\n",
              "       [0.97865092, 0.02134908],\n",
              "       [0.90134036, 0.09865964],\n",
              "       [0.88967093, 0.11032907],\n",
              "       [0.80049555, 0.19950445],\n",
              "       [0.96948198, 0.03051802],\n",
              "       [0.90920901, 0.09079099],\n",
              "       [0.97753321, 0.02246679],\n",
              "       [0.94213601, 0.05786399],\n",
              "       [0.7665425 , 0.2334575 ],\n",
              "       [0.97509129, 0.02490871],\n",
              "       [0.97510825, 0.02489175],\n",
              "       [0.92839171, 0.07160829],\n",
              "       [0.97381802, 0.02618198],\n",
              "       [0.97747523, 0.02252477],\n",
              "       [0.96948198, 0.03051802],\n",
              "       [0.95815969, 0.04184031],\n",
              "       [0.84367241, 0.15632759],\n",
              "       [0.967697  , 0.032303  ],\n",
              "       [0.99063158, 0.00936842],\n",
              "       [0.9699428 , 0.0300572 ],\n",
              "       [0.96079073, 0.03920927],\n",
              "       [0.98689977, 0.01310023],\n",
              "       [0.92067171, 0.07932829],\n",
              "       [0.96450893, 0.03549107],\n",
              "       [0.97511117, 0.02488883],\n",
              "       [0.93820439, 0.06179561],\n",
              "       [0.86686474, 0.13313526],\n",
              "       [0.98176019, 0.01823981],\n",
              "       [0.87322206, 0.12677794],\n",
              "       [0.81985178, 0.18014822],\n",
              "       [0.96630714, 0.03369286],\n",
              "       [0.98788279, 0.01211721],\n",
              "       [0.95202819, 0.04797181],\n",
              "       [0.97756624, 0.02243376],\n",
              "       [0.9761471 , 0.0238529 ],\n",
              "       [0.98028939, 0.01971061],\n",
              "       [0.9969587 , 0.0030413 ],\n",
              "       [0.9924069 , 0.0075931 ],\n",
              "       [0.94547806, 0.05452194],\n",
              "       [0.98349439, 0.01650561],\n",
              "       [0.95669245, 0.04330755],\n",
              "       [0.94240652, 0.05759348],\n",
              "       [0.52637197, 0.47362803],\n",
              "       [0.90399183, 0.09600817],\n",
              "       [0.96995848, 0.03004152],\n",
              "       [0.97142441, 0.02857559],\n",
              "       [0.85336415, 0.14663585],\n",
              "       [0.86771696, 0.13228304],\n",
              "       [0.59869731, 0.40130269],\n",
              "       [0.93373747, 0.06626253],\n",
              "       [0.91269132, 0.08730868],\n",
              "       [0.66512955, 0.33487045],\n",
              "       [0.97865813, 0.02134187],\n",
              "       [0.98657758, 0.01342242],\n",
              "       [0.97152607, 0.02847393],\n",
              "       [0.95873615, 0.04126385],\n",
              "       [0.98571999, 0.01428001],\n",
              "       [0.98905701, 0.01094299],\n",
              "       [0.93950242, 0.06049758],\n",
              "       [0.96630949, 0.03369051],\n",
              "       [0.91957522, 0.08042478]])"
            ]
          },
          "metadata": {},
          "execution_count": 17
        }
      ]
    },
    {
      "cell_type": "code",
      "source": [
        "#Which column is about \"survived\" probability?\n",
        "model.classes_"
      ],
      "metadata": {
        "colab": {
          "base_uri": "https://localhost:8080/"
        },
        "id": "MwGfdWXg0VVc",
        "outputId": "bea57ade-b6c6-4186-a23e-1cf9066e36bf"
      },
      "execution_count": 18,
      "outputs": [
        {
          "output_type": "execute_result",
          "data": {
            "text/plain": [
              "array(['Dead', 'Survived'], dtype=object)"
            ]
          },
          "metadata": {},
          "execution_count": 18
        }
      ]
    },
    {
      "cell_type": "markdown",
      "source": [
        "right column"
      ],
      "metadata": {
        "id": "StXhVeN70o6_"
      }
    },
    {
      "cell_type": "code",
      "source": [
        "#Among the previous prediction probability array, select only the column corresponding to the \"Survived\" probability\n",
        "sps=sp[:, 1]\n",
        "sps\n"
      ],
      "metadata": {
        "colab": {
          "base_uri": "https://localhost:8080/"
        },
        "id": "h4qRSHZd0Utv",
        "outputId": "239631ac-eecd-4d7c-e471-7f30fd69a4b8"
      },
      "execution_count": 19,
      "outputs": [
        {
          "output_type": "execute_result",
          "data": {
            "text/plain": [
              "array([0.09087542, 0.01832042, 0.03400157, 0.09548222, 0.01615763,\n",
              "       0.03924719, 0.02894355, 0.02276864, 0.30265959, 0.03369286,\n",
              "       0.03220905, 0.11719653, 0.12121388, 0.03838295, 0.03549437,\n",
              "       0.0528634 , 0.04352993, 0.20092346, 0.02366412, 0.04150365,\n",
              "       0.02500452, 0.09991401, 0.04651593, 0.15694699, 0.06860296,\n",
              "       0.02505804, 0.13913708, 0.02529993, 0.01277617, 0.09423894,\n",
              "       0.05343022, 0.08649806, 0.12845493, 0.01735411, 0.69170713,\n",
              "       0.02028751, 0.01802002, 0.12678779, 0.03369286, 0.05724205,\n",
              "       0.04213124, 0.03693394, 0.02365382, 0.2832081 , 0.01212918,\n",
              "       0.09190515, 0.03044045, 0.04216008, 0.01292841, 0.01035948,\n",
              "       0.12807634, 0.04123479, 0.02364576, 0.02149928, 0.04561461,\n",
              "       0.03551622, 0.01093908, 0.09600817, 0.02247604, 0.06207568,\n",
              "       0.02892731, 0.01416085, 0.02892731, 0.03735122, 0.02618536,\n",
              "       0.03548654, 0.22170263, 0.43112182, 0.04350424, 0.03560818,\n",
              "       0.05197852, 0.07279268, 0.02248584, 0.48972846, 0.02713994,\n",
              "       0.23410373, 0.0792684 , 0.02312433, 0.04817379, 0.02243376,\n",
              "       0.05485563, 0.01494088, 0.03724745, 0.0198877 , 0.03376821,\n",
              "       0.04120387, 0.02955972, 0.05652693, 0.08268195, 0.07153843,\n",
              "       0.11941568, 0.04690689, 0.14110446, 0.032303  , 0.02750787,\n",
              "       0.0412667 , 0.03733088, 0.07185927, 0.01832042, 0.12657421,\n",
              "       0.14360287, 0.05605974, 0.05239935, 0.15009301, 0.09652251,\n",
              "       0.0320585 , 0.08981094, 0.04114967, 0.02383608, 0.07614909,\n",
              "       0.12026749, 0.03924446, 0.04398715, 0.03543711, 0.13046077,\n",
              "       0.03549148, 0.03926035, 0.03548488, 0.06994974, 0.0510576 ,\n",
              "       0.09059108, 0.1414412 , 0.09136577, 0.53156985, 0.0764321 ,\n",
              "       0.04560465, 0.00349047, 0.15522797, 0.03861157, 0.27201602,\n",
              "       0.40900201, 0.0503925 , 0.03913565, 0.03370721, 0.00409887,\n",
              "       0.1119641 , 0.07559298, 0.03374229, 0.04897433, 0.01215576,\n",
              "       0.02489175, 0.02365382, 0.02623422, 0.08211585, 0.06994974,\n",
              "       0.09156557, 0.23136354, 0.03373994, 0.07667749, 0.03208804,\n",
              "       0.04122414, 0.05911777, 0.03548654, 0.01353902, 0.02135739,\n",
              "       0.12075289, 0.07887858, 0.06245175, 0.0586123 , 0.03945966,\n",
              "       0.19729103, 0.02134908, 0.09865964, 0.11032907, 0.19950445,\n",
              "       0.03051802, 0.09079099, 0.02246679, 0.05786399, 0.2334575 ,\n",
              "       0.02490871, 0.02489175, 0.07160829, 0.02618198, 0.02252477,\n",
              "       0.03051802, 0.04184031, 0.15632759, 0.032303  , 0.00936842,\n",
              "       0.0300572 , 0.03920927, 0.01310023, 0.07932829, 0.03549107,\n",
              "       0.02488883, 0.06179561, 0.13313526, 0.01823981, 0.12677794,\n",
              "       0.18014822, 0.03369286, 0.01211721, 0.04797181, 0.02243376,\n",
              "       0.0238529 , 0.01971061, 0.0030413 , 0.0075931 , 0.05452194,\n",
              "       0.01650561, 0.04330755, 0.05759348, 0.47362803, 0.09600817,\n",
              "       0.03004152, 0.02857559, 0.14663585, 0.13228304, 0.40130269,\n",
              "       0.06626253, 0.08730868, 0.33487045, 0.02134187, 0.01342242,\n",
              "       0.02847393, 0.04126385, 0.01428001, 0.01094299, 0.06049758,\n",
              "       0.03369051, 0.08042478])"
            ]
          },
          "metadata": {},
          "execution_count": 19
        }
      ]
    },
    {
      "cell_type": "code",
      "source": [
        "#Display the passengers by sorting most likely to survive first (sorted_values() method?)\n",
        "# Create a DataFrame to display the results\n",
        "results = pd.DataFrame({\"PassengerId\": X_test.index, \"Survived Probability\": sps})\n",
        "\n",
        "# Sort the DataFrame by the \"Survived Probability\" column in descending order\n",
        "results.sort_values(\"Survived Probability\", ascending=False, inplace=True)\n",
        "\n",
        "# Display the passengers most likely to survive first\n",
        "print(results)"
      ],
      "metadata": {
        "colab": {
          "base_uri": "https://localhost:8080/"
        },
        "id": "uvgsFCOD9SWC",
        "outputId": "598c2881-13a9-4065-f2d4-c937395d70ad"
      },
      "execution_count": 20,
      "outputs": [
        {
          "output_type": "stream",
          "name": "stdout",
          "text": [
            "     PassengerId  Survived Probability\n",
            "34           303              0.691707\n",
            "123          547              0.531570\n",
            "73           309              0.489728\n",
            "203          375              0.473628\n",
            "67           733              0.431122\n",
            "..           ...                   ...\n",
            "179          322              0.009368\n",
            "198          628              0.007593\n",
            "134          480              0.004099\n",
            "126          508              0.003490\n",
            "197          535              0.003041\n",
            "\n",
            "[222 rows x 2 columns]\n"
          ]
        }
      ]
    },
    {
      "cell_type": "markdown",
      "metadata": {
        "id": "4DeDfBz285C_"
      },
      "source": [
        "# Bonus - Model improvement, under constraint\n",
        "\n",
        "Your time travel boss tells you that there's a budget cut. You now can only save 120 people max. Not one more.\n",
        "\n",
        "If your model predicts as \"dead\" someone who would have survived in reality. You then \"save\" that person, who would have survived even without your time-traveling help. And you take the place of someone who could have been saved. That's not optimal.\n",
        "\n",
        "Select the 120 people with the highest probability of dying. Of these, how many actually survived?"
      ]
    },
    {
      "cell_type": "code",
      "metadata": {
        "id": "_nGp-3qmzlHt"
      },
      "source": [],
      "execution_count": 20,
      "outputs": []
    },
    {
      "cell_type": "code",
      "metadata": {
        "id": "CErxEfjQ-MUU",
        "colab": {
          "base_uri": "https://localhost:8080/",
          "height": 423
        },
        "outputId": "6bfe9af6-fb88-40b3-ba2b-fa859c7864c8"
      },
      "source": [
        "# It's up to you:\n",
        "# Select the 120 people with the highest probability of dying\n",
        "most_at_risk = results.head(120)\n",
        "most_at_risk"
      ],
      "execution_count": 21,
      "outputs": [
        {
          "output_type": "execute_result",
          "data": {
            "text/plain": [
              "     PassengerId  Survived Probability\n",
              "34           303              0.691707\n",
              "123          547              0.531570\n",
              "73           309              0.489728\n",
              "203          375              0.473628\n",
              "67           733              0.431122\n",
              "..           ...                   ...\n",
              "85           595              0.041204\n",
              "107          651              0.041150\n",
              "159          619              0.039460\n",
              "116          563              0.039260\n",
              "5            377              0.039247\n",
              "\n",
              "[120 rows x 2 columns]"
            ],
            "text/html": [
              "\n",
              "  <div id=\"df-58a30a61-6367-4007-85d3-56c342adc04c\">\n",
              "    <div class=\"colab-df-container\">\n",
              "      <div>\n",
              "<style scoped>\n",
              "    .dataframe tbody tr th:only-of-type {\n",
              "        vertical-align: middle;\n",
              "    }\n",
              "\n",
              "    .dataframe tbody tr th {\n",
              "        vertical-align: top;\n",
              "    }\n",
              "\n",
              "    .dataframe thead th {\n",
              "        text-align: right;\n",
              "    }\n",
              "</style>\n",
              "<table border=\"1\" class=\"dataframe\">\n",
              "  <thead>\n",
              "    <tr style=\"text-align: right;\">\n",
              "      <th></th>\n",
              "      <th>PassengerId</th>\n",
              "      <th>Survived Probability</th>\n",
              "    </tr>\n",
              "  </thead>\n",
              "  <tbody>\n",
              "    <tr>\n",
              "      <th>34</th>\n",
              "      <td>303</td>\n",
              "      <td>0.691707</td>\n",
              "    </tr>\n",
              "    <tr>\n",
              "      <th>123</th>\n",
              "      <td>547</td>\n",
              "      <td>0.531570</td>\n",
              "    </tr>\n",
              "    <tr>\n",
              "      <th>73</th>\n",
              "      <td>309</td>\n",
              "      <td>0.489728</td>\n",
              "    </tr>\n",
              "    <tr>\n",
              "      <th>203</th>\n",
              "      <td>375</td>\n",
              "      <td>0.473628</td>\n",
              "    </tr>\n",
              "    <tr>\n",
              "      <th>67</th>\n",
              "      <td>733</td>\n",
              "      <td>0.431122</td>\n",
              "    </tr>\n",
              "    <tr>\n",
              "      <th>...</th>\n",
              "      <td>...</td>\n",
              "      <td>...</td>\n",
              "    </tr>\n",
              "    <tr>\n",
              "      <th>85</th>\n",
              "      <td>595</td>\n",
              "      <td>0.041204</td>\n",
              "    </tr>\n",
              "    <tr>\n",
              "      <th>107</th>\n",
              "      <td>651</td>\n",
              "      <td>0.041150</td>\n",
              "    </tr>\n",
              "    <tr>\n",
              "      <th>159</th>\n",
              "      <td>619</td>\n",
              "      <td>0.039460</td>\n",
              "    </tr>\n",
              "    <tr>\n",
              "      <th>116</th>\n",
              "      <td>563</td>\n",
              "      <td>0.039260</td>\n",
              "    </tr>\n",
              "    <tr>\n",
              "      <th>5</th>\n",
              "      <td>377</td>\n",
              "      <td>0.039247</td>\n",
              "    </tr>\n",
              "  </tbody>\n",
              "</table>\n",
              "<p>120 rows × 2 columns</p>\n",
              "</div>\n",
              "      <button class=\"colab-df-convert\" onclick=\"convertToInteractive('df-58a30a61-6367-4007-85d3-56c342adc04c')\"\n",
              "              title=\"Convert this dataframe to an interactive table.\"\n",
              "              style=\"display:none;\">\n",
              "        \n",
              "  <svg xmlns=\"http://www.w3.org/2000/svg\" height=\"24px\"viewBox=\"0 0 24 24\"\n",
              "       width=\"24px\">\n",
              "    <path d=\"M0 0h24v24H0V0z\" fill=\"none\"/>\n",
              "    <path d=\"M18.56 5.44l.94 2.06.94-2.06 2.06-.94-2.06-.94-.94-2.06-.94 2.06-2.06.94zm-11 1L8.5 8.5l.94-2.06 2.06-.94-2.06-.94L8.5 2.5l-.94 2.06-2.06.94zm10 10l.94 2.06.94-2.06 2.06-.94-2.06-.94-.94-2.06-.94 2.06-2.06.94z\"/><path d=\"M17.41 7.96l-1.37-1.37c-.4-.4-.92-.59-1.43-.59-.52 0-1.04.2-1.43.59L10.3 9.45l-7.72 7.72c-.78.78-.78 2.05 0 2.83L4 21.41c.39.39.9.59 1.41.59.51 0 1.02-.2 1.41-.59l7.78-7.78 2.81-2.81c.8-.78.8-2.07 0-2.86zM5.41 20L4 18.59l7.72-7.72 1.47 1.35L5.41 20z\"/>\n",
              "  </svg>\n",
              "      </button>\n",
              "      \n",
              "  <style>\n",
              "    .colab-df-container {\n",
              "      display:flex;\n",
              "      flex-wrap:wrap;\n",
              "      gap: 12px;\n",
              "    }\n",
              "\n",
              "    .colab-df-convert {\n",
              "      background-color: #E8F0FE;\n",
              "      border: none;\n",
              "      border-radius: 50%;\n",
              "      cursor: pointer;\n",
              "      display: none;\n",
              "      fill: #1967D2;\n",
              "      height: 32px;\n",
              "      padding: 0 0 0 0;\n",
              "      width: 32px;\n",
              "    }\n",
              "\n",
              "    .colab-df-convert:hover {\n",
              "      background-color: #E2EBFA;\n",
              "      box-shadow: 0px 1px 2px rgba(60, 64, 67, 0.3), 0px 1px 3px 1px rgba(60, 64, 67, 0.15);\n",
              "      fill: #174EA6;\n",
              "    }\n",
              "\n",
              "    [theme=dark] .colab-df-convert {\n",
              "      background-color: #3B4455;\n",
              "      fill: #D2E3FC;\n",
              "    }\n",
              "\n",
              "    [theme=dark] .colab-df-convert:hover {\n",
              "      background-color: #434B5C;\n",
              "      box-shadow: 0px 1px 3px 1px rgba(0, 0, 0, 0.15);\n",
              "      filter: drop-shadow(0px 1px 2px rgba(0, 0, 0, 0.3));\n",
              "      fill: #FFFFFF;\n",
              "    }\n",
              "  </style>\n",
              "\n",
              "      <script>\n",
              "        const buttonEl =\n",
              "          document.querySelector('#df-58a30a61-6367-4007-85d3-56c342adc04c button.colab-df-convert');\n",
              "        buttonEl.style.display =\n",
              "          google.colab.kernel.accessAllowed ? 'block' : 'none';\n",
              "\n",
              "        async function convertToInteractive(key) {\n",
              "          const element = document.querySelector('#df-58a30a61-6367-4007-85d3-56c342adc04c');\n",
              "          const dataTable =\n",
              "            await google.colab.kernel.invokeFunction('convertToInteractive',\n",
              "                                                     [key], {});\n",
              "          if (!dataTable) return;\n",
              "\n",
              "          const docLinkHtml = 'Like what you see? Visit the ' +\n",
              "            '<a target=\"_blank\" href=https://colab.research.google.com/notebooks/data_table.ipynb>data table notebook</a>'\n",
              "            + ' to learn more about interactive tables.';\n",
              "          element.innerHTML = '';\n",
              "          dataTable['output_type'] = 'display_data';\n",
              "          await google.colab.output.renderOutput(dataTable, element);\n",
              "          const docLink = document.createElement('div');\n",
              "          docLink.innerHTML = docLinkHtml;\n",
              "          element.appendChild(docLink);\n",
              "        }\n",
              "      </script>\n",
              "    </div>\n",
              "  </div>\n",
              "  "
            ]
          },
          "metadata": {},
          "execution_count": 21
        }
      ]
    },
    {
      "cell_type": "code",
      "source": [
        "# Count the number of people who actually survived\n",
        "#actual_survivors = sum(y_test[most_at_risk.index] == \"Survived\")\n",
        "df_two_people = df_titanic[df_titanic['Name'].isin([\"Rev. Juozas Montvila\",\"Mrs. William (Margaret Norton) Rice\"])]\n",
        "df_two_people"
      ],
      "metadata": {
        "colab": {
          "base_uri": "https://localhost:8080/",
          "height": 112
        },
        "id": "Tzj51K7WBHrS",
        "outputId": "399731a6-1b9a-4e36-90fc-d7bccee33187"
      },
      "execution_count": 23,
      "outputs": [
        {
          "output_type": "execute_result",
          "data": {
            "text/plain": [
              "    Survived  Pclass                                 Name     Sex   Age  \\\n",
              "881     Dead       3  Mrs. William (Margaret Norton) Rice  female  39.0   \n",
              "882     Dead       2                 Rev. Juozas Montvila    male  27.0   \n",
              "\n",
              "     Siblings/Spouses Aboard  Parents/Children Aboard    Fare  \n",
              "881                        0                        5  29.125  \n",
              "882                        0                        0  13.000  "
            ],
            "text/html": [
              "\n",
              "  <div id=\"df-d9e84c52-5090-4a42-9bba-edd037431730\">\n",
              "    <div class=\"colab-df-container\">\n",
              "      <div>\n",
              "<style scoped>\n",
              "    .dataframe tbody tr th:only-of-type {\n",
              "        vertical-align: middle;\n",
              "    }\n",
              "\n",
              "    .dataframe tbody tr th {\n",
              "        vertical-align: top;\n",
              "    }\n",
              "\n",
              "    .dataframe thead th {\n",
              "        text-align: right;\n",
              "    }\n",
              "</style>\n",
              "<table border=\"1\" class=\"dataframe\">\n",
              "  <thead>\n",
              "    <tr style=\"text-align: right;\">\n",
              "      <th></th>\n",
              "      <th>Survived</th>\n",
              "      <th>Pclass</th>\n",
              "      <th>Name</th>\n",
              "      <th>Sex</th>\n",
              "      <th>Age</th>\n",
              "      <th>Siblings/Spouses Aboard</th>\n",
              "      <th>Parents/Children Aboard</th>\n",
              "      <th>Fare</th>\n",
              "    </tr>\n",
              "  </thead>\n",
              "  <tbody>\n",
              "    <tr>\n",
              "      <th>881</th>\n",
              "      <td>Dead</td>\n",
              "      <td>3</td>\n",
              "      <td>Mrs. William (Margaret Norton) Rice</td>\n",
              "      <td>female</td>\n",
              "      <td>39.0</td>\n",
              "      <td>0</td>\n",
              "      <td>5</td>\n",
              "      <td>29.125</td>\n",
              "    </tr>\n",
              "    <tr>\n",
              "      <th>882</th>\n",
              "      <td>Dead</td>\n",
              "      <td>2</td>\n",
              "      <td>Rev. Juozas Montvila</td>\n",
              "      <td>male</td>\n",
              "      <td>27.0</td>\n",
              "      <td>0</td>\n",
              "      <td>0</td>\n",
              "      <td>13.000</td>\n",
              "    </tr>\n",
              "  </tbody>\n",
              "</table>\n",
              "</div>\n",
              "      <button class=\"colab-df-convert\" onclick=\"convertToInteractive('df-d9e84c52-5090-4a42-9bba-edd037431730')\"\n",
              "              title=\"Convert this dataframe to an interactive table.\"\n",
              "              style=\"display:none;\">\n",
              "        \n",
              "  <svg xmlns=\"http://www.w3.org/2000/svg\" height=\"24px\"viewBox=\"0 0 24 24\"\n",
              "       width=\"24px\">\n",
              "    <path d=\"M0 0h24v24H0V0z\" fill=\"none\"/>\n",
              "    <path d=\"M18.56 5.44l.94 2.06.94-2.06 2.06-.94-2.06-.94-.94-2.06-.94 2.06-2.06.94zm-11 1L8.5 8.5l.94-2.06 2.06-.94-2.06-.94L8.5 2.5l-.94 2.06-2.06.94zm10 10l.94 2.06.94-2.06 2.06-.94-2.06-.94-.94-2.06-.94 2.06-2.06.94z\"/><path d=\"M17.41 7.96l-1.37-1.37c-.4-.4-.92-.59-1.43-.59-.52 0-1.04.2-1.43.59L10.3 9.45l-7.72 7.72c-.78.78-.78 2.05 0 2.83L4 21.41c.39.39.9.59 1.41.59.51 0 1.02-.2 1.41-.59l7.78-7.78 2.81-2.81c.8-.78.8-2.07 0-2.86zM5.41 20L4 18.59l7.72-7.72 1.47 1.35L5.41 20z\"/>\n",
              "  </svg>\n",
              "      </button>\n",
              "      \n",
              "  <style>\n",
              "    .colab-df-container {\n",
              "      display:flex;\n",
              "      flex-wrap:wrap;\n",
              "      gap: 12px;\n",
              "    }\n",
              "\n",
              "    .colab-df-convert {\n",
              "      background-color: #E8F0FE;\n",
              "      border: none;\n",
              "      border-radius: 50%;\n",
              "      cursor: pointer;\n",
              "      display: none;\n",
              "      fill: #1967D2;\n",
              "      height: 32px;\n",
              "      padding: 0 0 0 0;\n",
              "      width: 32px;\n",
              "    }\n",
              "\n",
              "    .colab-df-convert:hover {\n",
              "      background-color: #E2EBFA;\n",
              "      box-shadow: 0px 1px 2px rgba(60, 64, 67, 0.3), 0px 1px 3px 1px rgba(60, 64, 67, 0.15);\n",
              "      fill: #174EA6;\n",
              "    }\n",
              "\n",
              "    [theme=dark] .colab-df-convert {\n",
              "      background-color: #3B4455;\n",
              "      fill: #D2E3FC;\n",
              "    }\n",
              "\n",
              "    [theme=dark] .colab-df-convert:hover {\n",
              "      background-color: #434B5C;\n",
              "      box-shadow: 0px 1px 3px 1px rgba(0, 0, 0, 0.15);\n",
              "      filter: drop-shadow(0px 1px 2px rgba(0, 0, 0, 0.3));\n",
              "      fill: #FFFFFF;\n",
              "    }\n",
              "  </style>\n",
              "\n",
              "      <script>\n",
              "        const buttonEl =\n",
              "          document.querySelector('#df-d9e84c52-5090-4a42-9bba-edd037431730 button.colab-df-convert');\n",
              "        buttonEl.style.display =\n",
              "          google.colab.kernel.accessAllowed ? 'block' : 'none';\n",
              "\n",
              "        async function convertToInteractive(key) {\n",
              "          const element = document.querySelector('#df-d9e84c52-5090-4a42-9bba-edd037431730');\n",
              "          const dataTable =\n",
              "            await google.colab.kernel.invokeFunction('convertToInteractive',\n",
              "                                                     [key], {});\n",
              "          if (!dataTable) return;\n",
              "\n",
              "          const docLinkHtml = 'Like what you see? Visit the ' +\n",
              "            '<a target=\"_blank\" href=https://colab.research.google.com/notebooks/data_table.ipynb>data table notebook</a>'\n",
              "            + ' to learn more about interactive tables.';\n",
              "          element.innerHTML = '';\n",
              "          dataTable['output_type'] = 'display_data';\n",
              "          await google.colab.output.renderOutput(dataTable, element);\n",
              "          const docLink = document.createElement('div');\n",
              "          docLink.innerHTML = docLinkHtml;\n",
              "          element.appendChild(docLink);\n",
              "        }\n",
              "      </script>\n",
              "    </div>\n",
              "  </div>\n",
              "  "
            ]
          },
          "metadata": {},
          "execution_count": 23
        }
      ]
    },
    {
      "cell_type": "markdown",
      "metadata": {
        "id": "5wg1tAdXXGpZ"
      },
      "source": [
        "# Bonus - More predictions\n",
        "\n",
        "Does the Reverend \"Rev. Juozas Montvila\" have a better chance of survival than \"Mrs. William (Margaret Norton) Rice\"?\n",
        "- Filter the initial DataFrame to get only the 2 rows with the 2 persons above, and only columns present in your variables (X)\n",
        "- Make a prediction with probability for this 2 people\n",
        "- Which one has a better chance to survive?\n"
      ]
    },
    {
      "cell_type": "code",
      "metadata": {
        "id": "NMoGFW8DioeP",
        "colab": {
          "base_uri": "https://localhost:8080/",
          "height": 112
        },
        "outputId": "f3128151-bca9-4f3b-8c14-43e737ec9f9c"
      },
      "source": [
        "df_two_people = df_titanic[df_titanic['Name'].isin([\"Rev. Juozas Montvila\",\"Mrs. William (Margaret Norton) Rice\"])]\n",
        "df_two_people"
      ],
      "execution_count": 26,
      "outputs": [
        {
          "output_type": "execute_result",
          "data": {
            "text/plain": [
              "    Survived  Pclass                                 Name     Sex   Age  \\\n",
              "881     Dead       3  Mrs. William (Margaret Norton) Rice  female  39.0   \n",
              "882     Dead       2                 Rev. Juozas Montvila    male  27.0   \n",
              "\n",
              "     Siblings/Spouses Aboard  Parents/Children Aboard    Fare  \n",
              "881                        0                        5  29.125  \n",
              "882                        0                        0  13.000  "
            ],
            "text/html": [
              "\n",
              "  <div id=\"df-ad25fd30-3236-4db6-a395-3c315129baee\">\n",
              "    <div class=\"colab-df-container\">\n",
              "      <div>\n",
              "<style scoped>\n",
              "    .dataframe tbody tr th:only-of-type {\n",
              "        vertical-align: middle;\n",
              "    }\n",
              "\n",
              "    .dataframe tbody tr th {\n",
              "        vertical-align: top;\n",
              "    }\n",
              "\n",
              "    .dataframe thead th {\n",
              "        text-align: right;\n",
              "    }\n",
              "</style>\n",
              "<table border=\"1\" class=\"dataframe\">\n",
              "  <thead>\n",
              "    <tr style=\"text-align: right;\">\n",
              "      <th></th>\n",
              "      <th>Survived</th>\n",
              "      <th>Pclass</th>\n",
              "      <th>Name</th>\n",
              "      <th>Sex</th>\n",
              "      <th>Age</th>\n",
              "      <th>Siblings/Spouses Aboard</th>\n",
              "      <th>Parents/Children Aboard</th>\n",
              "      <th>Fare</th>\n",
              "    </tr>\n",
              "  </thead>\n",
              "  <tbody>\n",
              "    <tr>\n",
              "      <th>881</th>\n",
              "      <td>Dead</td>\n",
              "      <td>3</td>\n",
              "      <td>Mrs. William (Margaret Norton) Rice</td>\n",
              "      <td>female</td>\n",
              "      <td>39.0</td>\n",
              "      <td>0</td>\n",
              "      <td>5</td>\n",
              "      <td>29.125</td>\n",
              "    </tr>\n",
              "    <tr>\n",
              "      <th>882</th>\n",
              "      <td>Dead</td>\n",
              "      <td>2</td>\n",
              "      <td>Rev. Juozas Montvila</td>\n",
              "      <td>male</td>\n",
              "      <td>27.0</td>\n",
              "      <td>0</td>\n",
              "      <td>0</td>\n",
              "      <td>13.000</td>\n",
              "    </tr>\n",
              "  </tbody>\n",
              "</table>\n",
              "</div>\n",
              "      <button class=\"colab-df-convert\" onclick=\"convertToInteractive('df-ad25fd30-3236-4db6-a395-3c315129baee')\"\n",
              "              title=\"Convert this dataframe to an interactive table.\"\n",
              "              style=\"display:none;\">\n",
              "        \n",
              "  <svg xmlns=\"http://www.w3.org/2000/svg\" height=\"24px\"viewBox=\"0 0 24 24\"\n",
              "       width=\"24px\">\n",
              "    <path d=\"M0 0h24v24H0V0z\" fill=\"none\"/>\n",
              "    <path d=\"M18.56 5.44l.94 2.06.94-2.06 2.06-.94-2.06-.94-.94-2.06-.94 2.06-2.06.94zm-11 1L8.5 8.5l.94-2.06 2.06-.94-2.06-.94L8.5 2.5l-.94 2.06-2.06.94zm10 10l.94 2.06.94-2.06 2.06-.94-2.06-.94-.94-2.06-.94 2.06-2.06.94z\"/><path d=\"M17.41 7.96l-1.37-1.37c-.4-.4-.92-.59-1.43-.59-.52 0-1.04.2-1.43.59L10.3 9.45l-7.72 7.72c-.78.78-.78 2.05 0 2.83L4 21.41c.39.39.9.59 1.41.59.51 0 1.02-.2 1.41-.59l7.78-7.78 2.81-2.81c.8-.78.8-2.07 0-2.86zM5.41 20L4 18.59l7.72-7.72 1.47 1.35L5.41 20z\"/>\n",
              "  </svg>\n",
              "      </button>\n",
              "      \n",
              "  <style>\n",
              "    .colab-df-container {\n",
              "      display:flex;\n",
              "      flex-wrap:wrap;\n",
              "      gap: 12px;\n",
              "    }\n",
              "\n",
              "    .colab-df-convert {\n",
              "      background-color: #E8F0FE;\n",
              "      border: none;\n",
              "      border-radius: 50%;\n",
              "      cursor: pointer;\n",
              "      display: none;\n",
              "      fill: #1967D2;\n",
              "      height: 32px;\n",
              "      padding: 0 0 0 0;\n",
              "      width: 32px;\n",
              "    }\n",
              "\n",
              "    .colab-df-convert:hover {\n",
              "      background-color: #E2EBFA;\n",
              "      box-shadow: 0px 1px 2px rgba(60, 64, 67, 0.3), 0px 1px 3px 1px rgba(60, 64, 67, 0.15);\n",
              "      fill: #174EA6;\n",
              "    }\n",
              "\n",
              "    [theme=dark] .colab-df-convert {\n",
              "      background-color: #3B4455;\n",
              "      fill: #D2E3FC;\n",
              "    }\n",
              "\n",
              "    [theme=dark] .colab-df-convert:hover {\n",
              "      background-color: #434B5C;\n",
              "      box-shadow: 0px 1px 3px 1px rgba(0, 0, 0, 0.15);\n",
              "      filter: drop-shadow(0px 1px 2px rgba(0, 0, 0, 0.3));\n",
              "      fill: #FFFFFF;\n",
              "    }\n",
              "  </style>\n",
              "\n",
              "      <script>\n",
              "        const buttonEl =\n",
              "          document.querySelector('#df-ad25fd30-3236-4db6-a395-3c315129baee button.colab-df-convert');\n",
              "        buttonEl.style.display =\n",
              "          google.colab.kernel.accessAllowed ? 'block' : 'none';\n",
              "\n",
              "        async function convertToInteractive(key) {\n",
              "          const element = document.querySelector('#df-ad25fd30-3236-4db6-a395-3c315129baee');\n",
              "          const dataTable =\n",
              "            await google.colab.kernel.invokeFunction('convertToInteractive',\n",
              "                                                     [key], {});\n",
              "          if (!dataTable) return;\n",
              "\n",
              "          const docLinkHtml = 'Like what you see? Visit the ' +\n",
              "            '<a target=\"_blank\" href=https://colab.research.google.com/notebooks/data_table.ipynb>data table notebook</a>'\n",
              "            + ' to learn more about interactive tables.';\n",
              "          element.innerHTML = '';\n",
              "          dataTable['output_type'] = 'display_data';\n",
              "          await google.colab.output.renderOutput(dataTable, element);\n",
              "          const docLink = document.createElement('div');\n",
              "          docLink.innerHTML = docLinkHtml;\n",
              "          element.appendChild(docLink);\n",
              "        }\n",
              "      </script>\n",
              "    </div>\n",
              "  </div>\n",
              "  "
            ]
          },
          "metadata": {},
          "execution_count": 26
        }
      ]
    },
    {
      "cell_type": "code",
      "source": [
        "model.predict_proba(df_two_people.select_dtypes(include=np.number))"
      ],
      "metadata": {
        "colab": {
          "base_uri": "https://localhost:8080/"
        },
        "id": "Ad-luwKsl7QC",
        "outputId": "abff3f14-a694-46a3-e9a4-b2948372dcb2"
      },
      "execution_count": 29,
      "outputs": [
        {
          "output_type": "execute_result",
          "data": {
            "text/plain": [
              "array([[0.93243605, 0.06756395],\n",
              "       [0.92067171, 0.07932829]])"
            ]
          },
          "metadata": {},
          "execution_count": 29
        }
      ]
    }
  ]
}